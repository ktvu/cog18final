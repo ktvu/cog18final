{
 "cells": [
  {
   "cell_type": "markdown",
   "metadata": {},
   "source": [
    "# Description of the project\n",
    "\n",
    "Simple text-based adventure created from my mind because I wanted to have a little fun. Inspiration comes from the mobile game called Identity V, a survival horror game by NetEase. Roles from the game such as \"nurse\", \"mechanic\", and \"Gamekeeper\" were used in this adventure, though the plot is not exactly the same. Other inspiration comes from the short story \"The Most Dangerous Game\" by Richard Connell."
   ]
  },
  {
   "cell_type": "markdown",
   "metadata": {},
   "source": [
    "# Project code\n",
    "Story will begin immediately when you run the cell. Choose your options wisely."
   ]
  },
  {
   "cell_type": "code",
   "execution_count": 3,
   "metadata": {
    "scrolled": true
   },
   "outputs": [
    {
     "name": "stdout",
     "output_type": "stream",
     "text": [
      "You wake up in a cold sweat, gasping for air. The room is dark. You realize you are in a bed.\n",
      "You sit up, looking around the unfamiliar room, and try to recall what happened.\n",
      "Your mind is fuzzy as you try to remember the simplest of things.\n",
      "What is your name?\n",
      "kl;\n",
      "\u001b[92m >> \"I am kl;.\"\u001b[00m\n",
      "There is still some confusion as to why you are here though.\n",
      "Your vision starts adjusting to the darkness and you see your coat on the edge of the bed.\n",
      "There is a letter sticking out of the front pocket.\n",
      ">> Do you go and reach for it?\n",
      " yes/no \n",
      "qwf\n",
      "I didn't understand that.\n",
      "\n",
      ">> Do you go and reach for it?\n",
      " yes/no \n",
      "yes\n",
      "You grab the letter and open it up to read.\n",
      "\n",
      "\"Dear Sibyl,\"\n",
      "At that moment, you get flashbacks.\n",
      "You realize you are a small clairvoyant detective called 'Sibyl' who received a cryptic message about a cold case.\n",
      "Shaking your head, you continue on reading the letter.\n",
      "\"Dear Sibyl,\"\n",
      "\"I know it has been 15 years, but...\"\n",
      "\"I know my brother is out there. I can just feel it. Nobody would believe me, but I know you feel it too.\"\n",
      "\"I got a letter to this house party on the other side of the hill, towards the fields.\"\n",
      "\"The letter was signed by my brother. I recognize his signature anywhere.\"\n",
      "\"But... the wording is nothing like him.\"\n",
      "\"I have attached his letter to this. Please. I can only entrust this to you.\"\n",
      "You now understand the piercing headaches. It is because of the contract with the client.\n",
      "Since your headaches will come back if you do not help, you decide to look around for a light.\n",
      "You see an oil lamp next to the bedside table. You decide to:\n",
      "  A. Scoff at and ignore it.\n",
      "  B. Pick it up and turn it on.\n",
      "  C. Look for other light options.\n",
      ">>> b\n",
      "The room brightens up and you see that there is no other furniture and window. Just a door out.\n",
      "The door creaks as you open it. You find yourself in a hallway with two doors to your left.\n",
      "To your right is a double door towards the end of the hall.\n",
      "After looking around, you decide to go check out the:\n",
      "  A. Door furthest to your left.\n",
      "  B. Door closest to your left.\n",
      "  C. Double door down the far right.\n",
      ">>> c\n",
      "You walk towards the grandiose double door and open it.\n",
      "You see that it is a dining room and walk in.\n",
      "The tables are set up and you spot a nametag with your client's name on it.\n",
      "You try to get a closer look at the set-up, but then hear whispering.\n",
      "You look up and see a nurse and mechanic talking to each other.\n",
      "Everyone notices each other, so you decide to walk over to them.\n",
      "Since you don't know anything about them, you keep up the persona that you are your client.\n",
      "The nurse introduces herself first. Then the mechanic.\n",
      "\u001b[92m \"How do you know my brother?\" you ask casually.\u001b[00m\n",
      "The two ladies look at each other with confusion in their eyes.\n",
      "\u001b[96m \"Your brother? What do you mean?\" asked the nurse.\u001b[00m\n",
      "Now it was your turn to be confused.\n",
      "\u001b[92m \"This dinner party is for a house warming, is it not?\"\u001b[00m\n",
      "\u001b[93m The mechanic scratches her head. \"I was invited here for government funding. Same with her.\"\u001b[00m\n",
      "As you try to connect the dots together, the chandelier lights flicker and go out.\n",
      "Panic starts to set in. There is shrill screaming. Then, the lights come back on.\n",
      "You look around and see that the nurse and mechanic are tied down to their seats.\n",
      "You quickly look around again but see nobody else in the room.\n",
      "\u001b[91m \"Hello all. I am so glad you were able to join me for this marvelous feast,\" a creepily enthusiastic voice said.\u001b[00m\n",
      "You continue whipping your head around but find no new figures.\n",
      "You can see the nurse and mechanic struggling with deep panic in their eyes.\n",
      "\u001b[91m The voice continued, \"Oh, do not squirm so much little ones. You will need your energy.\"\u001b[00m\n",
      "You were about to ask what was this about when the voice cut you off.\n",
      "\u001b[91m \"Hello, there Sybil,\" the voice turned serious.\u001b[00m\n",
      "\u001b[91m \"I am so disheartened by the thought of my brother not trusting me. He had to call you to come here.\"\u001b[00m\n",
      "You think over the situation, wondering how this person knew your identity. \"My brother\", he said?\n",
      "So many questions were going through your mind.\n",
      "\u001b[93m \"What is all this?!?!\" the mechanic shrieked. \"Sibyl? Who are you? Are you in on this?\"\u001b[00m\n",
      "On top of having your own questions, you are bombarded with her questions, causing anxiety to set in.\n",
      "\u001b[91m The voice chuckles. \"All right, let us cut to the chase before more energy is wasted.\"\u001b[00m\n",
      "\u001b[91m \"Welcome to my beautiful manor. We are going to have a lovely feast tonight.\"\u001b[00m\n",
      "\u001b[91m \"You can call me \"Gamekeeper\". As the name implies, I hunt. And I love it.\"\u001b[00m\n",
      "As you listen on, you start connecting the dots.\n",
      "You are the prey.\n",
      "Understanding the situation, you:\n",
      "  A. Ask questions.\n",
      "  B. Stand still, frozen with fear.\n",
      "  C. Make a run for it.\n",
      ">>> c\n",
      "Your flight response kicks in.\n",
      "You bolt toward the door you came from, ignoring everyone and everything else\n",
      "\u001b[91m \"Where are you going?\" the Gamekeeper shouts.\u001b[00m\n",
      "You head pass the double doors, down the hall.\n",
      "You realize the only door available is the room you awoke in.\n",
      "You try to think of something to do, but the manical laughter is disrupting your thoughts.\n",
      "The piercing headaches come back.\n",
      "As an idea comes to mind, you hear a thud behind you.\n",
      "You hear a scream as you begin turning your head.\n",
      "Then, you black out for eternity.\n",
      ">> Decide again? \n",
      " yes/no \n",
      "no\n",
      "Good-bye.\n"
     ]
    },
    {
     "ename": "SystemExit",
     "evalue": "",
     "output_type": "error",
     "traceback": [
      "An exception has occurred, use %tb to see the full traceback.\n",
      "\u001b[1;31mSystemExit\u001b[0m\n"
     ]
    }
   ],
   "source": [
    "import Adventure_Time_Functions"
   ]
  },
  {
   "cell_type": "markdown",
   "metadata": {},
   "source": [
    "# Test functions\n",
    "\n",
    "Uncomment the code below to check some of the testing for the adventure code."
   ]
  },
  {
   "cell_type": "code",
   "execution_count": null,
   "metadata": {},
   "outputs": [],
   "source": [
    "# %load Adventure_Time_Test_Functions.py"
   ]
  },
  {
   "cell_type": "code",
   "execution_count": null,
   "metadata": {},
   "outputs": [],
   "source": [
    "# import Adventure_Time_Test_Functions"
   ]
  }
 ],
 "metadata": {
  "kernelspec": {
   "display_name": "Python 3",
   "language": "python",
   "name": "python3"
  },
  "language_info": {
   "codemirror_mode": {
    "name": "ipython",
    "version": 3
   },
   "file_extension": ".py",
   "mimetype": "text/x-python",
   "name": "python",
   "nbconvert_exporter": "python",
   "pygments_lexer": "ipython3",
   "version": "3.7.3"
  }
 },
 "nbformat": 4,
 "nbformat_minor": 2
}
